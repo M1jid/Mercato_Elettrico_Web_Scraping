{
 "cells": [
  {
   "cell_type": "code",
   "execution_count": 23,
   "id": "ca32c0ed-60fb-433f-9315-5a9afe0cf11a",
   "metadata": {},
   "outputs": [],
   "source": [
    "from selenium import webdriver\n",
    "from selenium.webdriver.chrome.service import Service\n",
    "from selenium.webdriver.common.by import By\n",
    "from selenium.webdriver.support.ui import WebDriverWait\n",
    "from selenium.webdriver.support import expected_conditions as EC\n",
    "from selenium.webdriver.chrome.options import Options\n",
    "import time\n",
    "import os\n",
    "\n",
    "# Chrome web driver options\n",
    "options = Options()\n",
    "options.headless = True  # Run in headless mode (no browser window)\n",
    "\n",
    "# Set up chromedriver service\n",
    "service = Service(executable_path='Z:/web_scraping/chromedriver.exe')\n",
    "\n",
    "driver = webdriver.Chrome(service=service, options=options)\n",
    "\n",
    "# Access the website\n",
    "driver.get('https://www.mercatoelettrico.org/en-us/Home/Results/Electricity/MI/MI-A1/Results/ZonalPrices')\n",
    "time.sleep(5)\n",
    "\n",
    "# Click the checkboxes\n",
    "policy = driver.find_element(By.XPATH, \"//span[@id='spanCB1']\")\n",
    "policy.click()\n",
    "\n",
    "policy2 = driver.find_element(By.XPATH, \"//span[@id='spanCB2']\")\n",
    "policy2.click()\n",
    "\n",
    "# Click the button to show more options\n",
    "policy3 = driver.find_element(By.XPATH, \"//button[@type='button']\")\n",
    "policy3.click()\n",
    "\n",
    "# Open dropdown for data export\n",
    "data_select = driver.find_element(By.XPATH, \"//button[@class='graph-buttons dropdown-toggle']\")\n",
    "data_select.click()\n",
    "time.sleep(1)\n",
    "\n",
    "# Click on \"Export all zones XLSX\"\n",
    "data_downloader = driver.find_element(By.XPATH, \"//a[contains(text(), 'Export all zones XLSX')]\")\n",
    "data_downloader.click()\n",
    "time.sleep(3)\n",
    "\n",
    "# Wait for the download to complete\n",
    "driver.get('https://www.mercatoelettrico.org/en-us/Home/Results/Electricity/MI/MI-A1/Results/Volumes')\n",
    "time.sleep(3)\n",
    "\n",
    "volumes = driver.find_element(By.XPATH, \"//button[@class='graph-buttons dropdown-toggle']\")\n",
    "volumes.click()\n",
    "\n",
    "volume_downloader = driver.find_element(By.XPATH, \"//a[contains(text(), 'Export all zones XLSX')]\")\n",
    "volume_downloader.click()\n",
    "time.sleep(3)\n",
    "\n",
    "# Close the browser\n",
    "driver.quit()\n"
   ]
  },
  {
   "cell_type": "code",
   "execution_count": null,
   "id": "0711b9b8-2d56-4e2b-853a-2967d39ff13e",
   "metadata": {},
   "outputs": [],
   "source": []
  }
 ],
 "metadata": {
  "kernelspec": {
   "display_name": "Python 3 (ipykernel)",
   "language": "python",
   "name": "python3"
  },
  "language_info": {
   "codemirror_mode": {
    "name": "ipython",
    "version": 3
   },
   "file_extension": ".py",
   "mimetype": "text/x-python",
   "name": "python",
   "nbconvert_exporter": "python",
   "pygments_lexer": "ipython3",
   "version": "3.12.4"
  }
 },
 "nbformat": 4,
 "nbformat_minor": 5
}
